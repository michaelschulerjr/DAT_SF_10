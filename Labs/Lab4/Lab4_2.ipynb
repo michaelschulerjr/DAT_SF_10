{
 "metadata": {
  "name": "",
  "signature": "sha256:ff6fabe6f8c3c877591161a93e8d823b0c401be46f26f822930deeb27e9b5dda"
 },
 "nbformat": 3,
 "nbformat_minor": 0,
 "worksheets": [
  {
   "cells": [
    {
     "cell_type": "code",
     "collapsed": false,
     "input": [
      "from sklearn import datasets"
     ],
     "language": "python",
     "metadata": {},
     "outputs": [],
     "prompt_number": 2
    },
    {
     "cell_type": "code",
     "collapsed": false,
     "input": [
      "iris = datasets.load_iris()"
     ],
     "language": "python",
     "metadata": {},
     "outputs": [],
     "prompt_number": 3
    },
    {
     "cell_type": "code",
     "collapsed": false,
     "input": [
      "iris.keys()"
     ],
     "language": "python",
     "metadata": {},
     "outputs": [
      {
       "metadata": {},
       "output_type": "pyout",
       "prompt_number": 4,
       "text": [
        "['target_names', 'data', 'target', 'DESCR', 'feature_names']"
       ]
      }
     ],
     "prompt_number": 4
    },
    {
     "cell_type": "code",
     "collapsed": false,
     "input": [
      "print iris['data'][:10]"
     ],
     "language": "python",
     "metadata": {},
     "outputs": [
      {
       "output_type": "stream",
       "stream": "stdout",
       "text": [
        "[[ 5.1  3.5  1.4  0.2]\n",
        " [ 4.9  3.   1.4  0.2]\n",
        " [ 4.7  3.2  1.3  0.2]\n",
        " [ 4.6  3.1  1.5  0.2]\n",
        " [ 5.   3.6  1.4  0.2]\n",
        " [ 5.4  3.9  1.7  0.4]\n",
        " [ 4.6  3.4  1.4  0.3]\n",
        " [ 5.   3.4  1.5  0.2]\n",
        " [ 4.4  2.9  1.4  0.2]\n",
        " [ 4.9  3.1  1.5  0.1]]\n"
       ]
      }
     ],
     "prompt_number": 5
    },
    {
     "cell_type": "heading",
     "level": 1,
     "metadata": {},
     "source": [
      "Lets Display the DATA"
     ]
    },
    {
     "cell_type": "code",
     "collapsed": false,
     "input": [
      "from matplotlib import pyplot as plt\n",
      "import numpy as np\n",
      "from matplotlib.ticker import FormatStrFormatter"
     ],
     "language": "python",
     "metadata": {},
     "outputs": [],
     "prompt_number": 6
    },
    {
     "cell_type": "code",
     "collapsed": false,
     "input": [
      "X = iris['data']\n",
      "Names = iris ['feature_names']\n",
      "print Names\n",
      "y = iris['target']\n",
      "print y"
     ],
     "language": "python",
     "metadata": {},
     "outputs": [
      {
       "output_type": "stream",
       "stream": "stdout",
       "text": [
        "['sepal length (cm)', 'sepal width (cm)', 'petal length (cm)', 'petal width (cm)']\n",
        "[0 0 0 0 0 0 0 0 0 0 0 0 0 0 0 0 0 0 0 0 0 0 0 0 0 0 0 0 0 0 0 0 0 0 0 0 0\n",
        " 0 0 0 0 0 0 0 0 0 0 0 0 0 1 1 1 1 1 1 1 1 1 1 1 1 1 1 1 1 1 1 1 1 1 1 1 1\n",
        " 1 1 1 1 1 1 1 1 1 1 1 1 1 1 1 1 1 1 1 1 1 1 1 1 1 1 2 2 2 2 2 2 2 2 2 2 2\n",
        " 2 2 2 2 2 2 2 2 2 2 2 2 2 2 2 2 2 2 2 2 2 2 2 2 2 2 2 2 2 2 2 2 2 2 2 2 2\n",
        " 2 2]\n"
       ]
      }
     ],
     "prompt_number": 7
    },
    {
     "cell_type": "code",
     "collapsed": false,
     "input": [
      "iris['target_names']"
     ],
     "language": "python",
     "metadata": {},
     "outputs": [
      {
       "metadata": {},
       "output_type": "pyout",
       "prompt_number": 8,
       "text": [
        "array(['setosa', 'versicolor', 'virginica'], \n",
        "      dtype='|S10')"
       ]
      }
     ],
     "prompt_number": 8
    },
    {
     "cell_type": "code",
     "collapsed": false,
     "input": [
      "# Instantiate the top-level figure for this plotting exercise\n",
      "fig = plt.figure(0)"
     ],
     "language": "python",
     "metadata": {},
     "outputs": [],
     "prompt_number": 9
    },
    {
     "cell_type": "code",
     "collapsed": false,
     "input": [
      "# Instantiate our six subplots. Note that context will be set to the last one by default.\n",
      "ax1 = fig.add_subplot(2,3,1)\n",
      "ax2 = fig.add_subplot(2,3,2)\n",
      "ax3 = fig.add_subplot(2,3,3)\n",
      "ax4 = fig.add_subplot(2,3,4)\n",
      "ax5 = fig.add_subplot(2,3,5)\n",
      "ax6 = fig.add_subplot(2,3,6)"
     ],
     "language": "python",
     "metadata": {},
     "outputs": [],
     "prompt_number": 10
    },
    {
     "cell_type": "code",
     "collapsed": false,
     "input": [
      "# Title our figure. This is a different command than titling an individual subplot.\n",
      "fig.suptitle('Subplots demo with Iris Data', fontsize=14)"
     ],
     "language": "python",
     "metadata": {},
     "outputs": [
      {
       "metadata": {},
       "output_type": "pyout",
       "prompt_number": 11,
       "text": [
        "<matplotlib.text.Text at 0x107517f10>"
       ]
      }
     ],
     "prompt_number": 11
    },
    {
     "cell_type": "code",
     "collapsed": false,
     "input": [
      "# Sets the number of decimal places in our y-axis tick labels\n",
      "majorFormatter = FormatStrFormatter('%1.1f')"
     ],
     "language": "python",
     "metadata": {},
     "outputs": [],
     "prompt_number": 12
    },
    {
     "cell_type": "code",
     "collapsed": false,
     "input": [
      "majorFormatter"
     ],
     "language": "python",
     "metadata": {},
     "outputs": [
      {
       "metadata": {},
       "output_type": "pyout",
       "prompt_number": 13,
       "text": [
        "<matplotlib.ticker.FormatStrFormatter at 0x107517e10>"
       ]
      }
     ],
     "prompt_number": 13
    },
    {
     "cell_type": "code",
     "collapsed": false,
     "input": [
      "# Loop through our subplots and set font sizes\n",
      "# HINT: plt.gcf().axes gets all the axes for our current figure\n",
      "all_axes = plt.gcf().axes\n",
      "for ax in all_axes:\n",
      "    ax.yaxis.set_major_formatter(majorFormatter)\n",
      "    for ticklabel in ax.get_xticklabels() + ax.get_yticklabels():\n",
      "        ticklabel.set_fontsize(6)"
     ],
     "language": "python",
     "metadata": {},
     "outputs": [],
     "prompt_number": 14
    },
    {
     "cell_type": "code",
     "collapsed": false,
     "input": [
      "y"
     ],
     "language": "python",
     "metadata": {},
     "outputs": [
      {
       "metadata": {},
       "output_type": "pyout",
       "prompt_number": 15,
       "text": [
        "array([0, 0, 0, 0, 0, 0, 0, 0, 0, 0, 0, 0, 0, 0, 0, 0, 0, 0, 0, 0, 0, 0, 0,\n",
        "       0, 0, 0, 0, 0, 0, 0, 0, 0, 0, 0, 0, 0, 0, 0, 0, 0, 0, 0, 0, 0, 0, 0,\n",
        "       0, 0, 0, 0, 1, 1, 1, 1, 1, 1, 1, 1, 1, 1, 1, 1, 1, 1, 1, 1, 1, 1, 1,\n",
        "       1, 1, 1, 1, 1, 1, 1, 1, 1, 1, 1, 1, 1, 1, 1, 1, 1, 1, 1, 1, 1, 1, 1,\n",
        "       1, 1, 1, 1, 1, 1, 1, 1, 2, 2, 2, 2, 2, 2, 2, 2, 2, 2, 2, 2, 2, 2, 2,\n",
        "       2, 2, 2, 2, 2, 2, 2, 2, 2, 2, 2, 2, 2, 2, 2, 2, 2, 2, 2, 2, 2, 2, 2,\n",
        "       2, 2, 2, 2, 2, 2, 2, 2, 2, 2, 2, 2])"
       ]
      }
     ],
     "prompt_number": 15
    },
    {
     "cell_type": "code",
     "collapsed": false,
     "input": [
      "indices = y==0"
     ],
     "language": "python",
     "metadata": {},
     "outputs": [],
     "prompt_number": 16
    },
    {
     "cell_type": "code",
     "collapsed": false,
     "input": [
      "indices"
     ],
     "language": "python",
     "metadata": {},
     "outputs": [
      {
       "metadata": {},
       "output_type": "pyout",
       "prompt_number": 17,
       "text": [
        "array([ True,  True,  True,  True,  True,  True,  True,  True,  True,\n",
        "        True,  True,  True,  True,  True,  True,  True,  True,  True,\n",
        "        True,  True,  True,  True,  True,  True,  True,  True,  True,\n",
        "        True,  True,  True,  True,  True,  True,  True,  True,  True,\n",
        "        True,  True,  True,  True,  True,  True,  True,  True,  True,\n",
        "        True,  True,  True,  True,  True, False, False, False, False,\n",
        "       False, False, False, False, False, False, False, False, False,\n",
        "       False, False, False, False, False, False, False, False, False,\n",
        "       False, False, False, False, False, False, False, False, False,\n",
        "       False, False, False, False, False, False, False, False, False,\n",
        "       False, False, False, False, False, False, False, False, False,\n",
        "       False, False, False, False, False, False, False, False, False,\n",
        "       False, False, False, False, False, False, False, False, False,\n",
        "       False, False, False, False, False, False, False, False, False,\n",
        "       False, False, False, False, False, False, False, False, False,\n",
        "       False, False, False, False, False, False, False, False, False,\n",
        "       False, False, False, False, False, False], dtype=bool)"
       ]
      }
     ],
     "prompt_number": 17
    },
    {
     "cell_type": "code",
     "collapsed": false,
     "input": [
      "y[indices]"
     ],
     "language": "python",
     "metadata": {},
     "outputs": [
      {
       "metadata": {},
       "output_type": "pyout",
       "prompt_number": 18,
       "text": [
        "array([0, 0, 0, 0, 0, 0, 0, 0, 0, 0, 0, 0, 0, 0, 0, 0, 0, 0, 0, 0, 0, 0, 0,\n",
        "       0, 0, 0, 0, 0, 0, 0, 0, 0, 0, 0, 0, 0, 0, 0, 0, 0, 0, 0, 0, 0, 0, 0,\n",
        "       0, 0, 0, 0])"
       ]
      }
     ],
     "prompt_number": 18
    },
    {
     "cell_type": "code",
     "collapsed": false,
     "input": [
      "# Plot and format first subplot. We could make this a loop, but doing it manually for each\n",
      "#  is more readable for learning purposes.\n",
      "for t,marker,c in zip(xrange(3),\">ox\",\"rgb\") :\n",
      "    # We plot each class on its own to get different colored markers\n",
      "    ax1.scatter(X[y == t,0],\n",
      "                X[y == t,1],\n",
      "                marker=marker,\n",
      "                c=c)\n",
      "    ax1.set_xlabel(Names[0], fontsize=8)\n",
      "    ax1.set_ylabel(Names[1], fontsize=8)"
     ],
     "language": "python",
     "metadata": {},
     "outputs": [],
     "prompt_number": 19
    },
    {
     "cell_type": "code",
     "collapsed": false,
     "input": [
      "range(5)\n",
      "range(0,50,10)"
     ],
     "language": "python",
     "metadata": {},
     "outputs": [
      {
       "metadata": {},
       "output_type": "pyout",
       "prompt_number": 24,
       "text": [
        "[0, 10, 20, 30, 40]"
       ]
      }
     ],
     "prompt_number": 24
    },
    {
     "cell_type": "code",
     "collapsed": false,
     "input": [
      "# Plot and format second subplot. We could make this a loop, but doing it manually for each\n",
      "#  is more readable for learning purposes.\n",
      "\n",
      "for t,marker,c in zip(xrange(3),\">ox\",\"rgb\") :\n",
      "    ax2.scatter(X[y == t,0],\n",
      "                X[y == t,2],\n",
      "                marker=marker,\n",
      "                c=c)\n",
      "    ax2.set_xlabel(Names[0], fontsize=8)\n",
      "    ax2.set_ylabel(Names[2], fontsize=8)"
     ],
     "language": "python",
     "metadata": {},
     "outputs": [],
     "prompt_number": 25
    },
    {
     "cell_type": "code",
     "collapsed": false,
     "input": [
      "# Plot and format third subplot. We could make this a loop, but doing it manually for each\n",
      "#  is more readable for learning purposes.\n",
      "\n",
      "for t,marker,c in zip(xrange(3),\">ox\",\"rgb\") :\n",
      "    ax3.scatter(X[y == t,0],\n",
      "                X[y == t,3],\n",
      "                marker=marker,\n",
      "                c=c)\n",
      "    ax3.set_xlabel(Names[0], fontsize=8)\n",
      "    ax3.set_ylabel(Names[3], fontsize=8)"
     ],
     "language": "python",
     "metadata": {},
     "outputs": [],
     "prompt_number": 26
    },
    {
     "cell_type": "code",
     "collapsed": false,
     "input": [
      "# Plot and format fourth subplot. We could make this a loop, but doing it manually for each\n",
      "#  is more readable for learning purposes.\n",
      "\n",
      "for t,marker,c in zip(xrange(3),\">ox\",\"rgb\") :\n",
      "    ax4.scatter(X[y == t,1],\n",
      "                X[y == t,2],\n",
      "                marker=marker,\n",
      "                c=c)\n",
      "    ax4.set_xlabel(Names[1], fontsize=8)\n",
      "    ax4.set_ylabel(Names[2], fontsize=8)"
     ],
     "language": "python",
     "metadata": {},
     "outputs": [],
     "prompt_number": 27
    },
    {
     "cell_type": "code",
     "collapsed": false,
     "input": [
      "# Plot and format fifth subplot. We could make this a loop, but doing it manually for each\n",
      "#  is more readable for learning purposes.\n",
      "\n",
      "for t,marker,c in zip(xrange(3),\">ox\",\"rgb\") :\n",
      "    ax5.scatter(X[y == t,1],\n",
      "                X[y == t,3],\n",
      "                marker=marker,\n",
      "                c=c)\n",
      "    ax5.set_xlabel(Names[1], fontsize=8)\n",
      "    ax5.set_ylabel(Names[3], fontsize=8)"
     ],
     "language": "python",
     "metadata": {},
     "outputs": [],
     "prompt_number": 28
    },
    {
     "cell_type": "code",
     "collapsed": false,
     "input": [
      "# Plot and format sixth subplot. We could make this a loop, but doing it manually for each\n",
      "#  is more readable for learning purposes.\n",
      "\n",
      "for t,marker,c in zip(xrange(3),\">ox\",\"rgb\") :\n",
      "    ax6.scatter(X[y == t,2],\n",
      "                X[y == t,3],\n",
      "                marker=marker,\n",
      "                c=c)\n",
      "    ax6.set_xlabel(Names[2], fontsize=8)\n",
      "    ax6.set_ylabel(Names[3], fontsize=8)\n",
      "\n",
      "# Save our figure with subplots as one file\n",
      "plt.savefig('iris_plot_combined.png')"
     ],
     "language": "python",
     "metadata": {},
     "outputs": [],
     "prompt_number": 29
    },
    {
     "cell_type": "heading",
     "level": 1,
     "metadata": {},
     "source": [
      "KNN"
     ]
    },
    {
     "cell_type": "code",
     "collapsed": false,
     "input": [
      "# let's re-assign the data to standard named variables\n",
      "X = iris.data\n",
      "y = iris.target\n",
      "Names = iris.target_names"
     ],
     "language": "python",
     "metadata": {},
     "outputs": [],
     "prompt_number": 37
    },
    {
     "cell_type": "code",
     "collapsed": false,
     "input": [
      "# split the data into training set and test set by using SKLEARN\n",
      "from sklearn.cross_validation import train_test_split"
     ],
     "language": "python",
     "metadata": {},
     "outputs": [],
     "prompt_number": 38
    },
    {
     "cell_type": "code",
     "collapsed": false,
     "input": [
      "X_train, X_test, y_train, y_test = train_test_split( X, y, test_size=0.20, random_state=0)"
     ],
     "language": "python",
     "metadata": {},
     "outputs": [],
     "prompt_number": 91
    },
    {
     "cell_type": "code",
     "collapsed": false,
     "input": [
      "# Train KNN classifier defined function on the train data\n",
      "from sklearn.neighbors import KNeighborsClassifier"
     ],
     "language": "python",
     "metadata": {},
     "outputs": [],
     "prompt_number": 92
    },
    {
     "cell_type": "code",
     "collapsed": false,
     "input": [
      "myknn = KNeighborsClassifier(5).fit(X_train,y_train)"
     ],
     "language": "python",
     "metadata": {},
     "outputs": [],
     "prompt_number": 111
    },
    {
     "cell_type": "code",
     "collapsed": false,
     "input": [
      "myknn.score(X_test, y_test)"
     ],
     "language": "python",
     "metadata": {},
     "outputs": [
      {
       "metadata": {},
       "output_type": "pyout",
       "prompt_number": 112,
       "text": [
        "0.96666666666666667"
       ]
      }
     ],
     "prompt_number": 112
    },
    {
     "cell_type": "markdown",
     "metadata": {},
     "source": [
      "###Exercise #1\n",
      "\n",
      "###How does the model perform when you increase the number of neighbors?\n",
      "\n",
      "###How much do the scores vary each time you shuffle and split?"
     ]
    },
    {
     "cell_type": "code",
     "collapsed": false,
     "input": [],
     "language": "python",
     "metadata": {},
     "outputs": []
    }
   ],
   "metadata": {}
  }
 ]
}