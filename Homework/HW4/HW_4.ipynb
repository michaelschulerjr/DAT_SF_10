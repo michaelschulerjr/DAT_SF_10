{
 "metadata": {
  "name": "",
  "signature": "sha256:8010461a0d465e7f8cc72cda6e72e816327c71e3d4c595ba3de52af83fa17293"
 },
 "nbformat": 3,
 "nbformat_minor": 0,
 "worksheets": [
  {
   "cells": [
    {
     "cell_type": "markdown",
     "metadata": {},
     "source": [
      "### For this assignment, we will use the Olivetti faces dataset that we saw in the lecture. This is a very well known dataset in the machine learning world and can be obtained here:\n",
      "http://scikit-learn.org/stable/datasets/olivetti_faces.html#olivetti-faces\n"
     ]
    },
    {
     "cell_type": "code",
     "collapsed": false,
     "input": [
      "import numpy as np\n",
      "import matplotlib.pyplot as plt\n",
      "import pylab as pl\n",
      "import pandas as pd\n",
      "%matplotlib inline"
     ],
     "language": "python",
     "metadata": {},
     "outputs": [],
     "prompt_number": 77
    },
    {
     "cell_type": "code",
     "collapsed": false,
     "input": [
      "from sklearn.datasets import fetch_olivetti_faces\n",
      "faces = fetch_olivetti_faces()\n",
      "\n",
      "print faces.DESCR"
     ],
     "language": "python",
     "metadata": {},
     "outputs": [
      {
       "output_type": "stream",
       "stream": "stdout",
       "text": [
        "Modified Olivetti faces dataset.\n",
        "\n",
        "The original database was available from (now defunct)\n",
        "\n",
        "    http://www.uk.research.att.com/facedatabase.html\n",
        "\n",
        "The version retrieved here comes in MATLAB format from the personal\n",
        "web page of Sam Roweis:\n",
        "\n",
        "    http://www.cs.nyu.edu/~roweis/\n",
        "\n",
        "There are ten different images of each of 40 distinct subjects. For some\n",
        "subjects, the images were taken at different times, varying the lighting,\n",
        "facial expressions (open / closed eyes, smiling / not smiling) and facial\n",
        "details (glasses / no glasses). All the images were taken against a dark\n",
        "homogeneous background with the subjects in an upright, frontal position (with\n",
        "tolerance for some side movement).\n",
        "\n",
        "The original dataset consisted of 92 x 112, while the Roweis version\n",
        "consists of 64x64 images.\n",
        "\n"
       ]
      }
     ],
     "prompt_number": 78
    },
    {
     "cell_type": "code",
     "collapsed": false,
     "input": [
      "print faces.keys()\n"
     ],
     "language": "python",
     "metadata": {},
     "outputs": [
      {
       "output_type": "stream",
       "stream": "stdout",
       "text": [
        "['images', 'data', 'target', 'DESCR']\n"
       ]
      }
     ],
     "prompt_number": 79
    },
    {
     "cell_type": "code",
     "collapsed": false,
     "input": [
      "print faces"
     ],
     "language": "python",
     "metadata": {},
     "outputs": [
      {
       "output_type": "stream",
       "stream": "stdout",
       "text": [
        "{'images': array([[[ 0.30991736,  0.36776859,  0.41735536, ...,  0.37190083,\n",
        "          0.33057851,  0.30578512],\n",
        "        [ 0.3429752 ,  0.40495867,  0.43801653, ...,  0.37190083,\n",
        "          0.33884299,  0.3140496 ],\n",
        "        [ 0.3429752 ,  0.41735536,  0.45041323, ...,  0.38016528,\n",
        "          0.33884299,  0.29752067],\n",
        "        ..., \n",
        "        [ 0.21487603,  0.20661157,  0.22314049, ...,  0.15289256,\n",
        "          0.16528925,  0.17355372],\n",
        "        [ 0.20247933,  0.2107438 ,  0.2107438 , ...,  0.14876033,\n",
        "          0.16115703,  0.16528925],\n",
        "        [ 0.20247933,  0.20661157,  0.20247933, ...,  0.15289256,\n",
        "          0.16115703,  0.1570248 ]],\n",
        "\n",
        "       [[ 0.45454547,  0.47107437,  0.51239669, ...,  0.19008264,\n",
        "          0.18595041,  0.18595041],\n",
        "        [ 0.44628099,  0.48347107,  0.52066118, ...,  0.21487603,\n",
        "          0.2107438 ,  0.2107438 ],\n",
        "        [ 0.49586776,  0.5165289 ,  0.53305787, ...,  0.20247933,\n",
        "          0.20661157,  0.20661157],\n",
        "        ..., \n",
        "        [ 0.77272725,  0.78099173,  0.79338843, ...,  0.14462809,\n",
        "          0.14462809,  0.14462809],\n",
        "        [ 0.77272725,  0.77685952,  0.78925622, ...,  0.13636364,\n",
        "          0.13636364,  0.13636364],\n",
        "        [ 0.76446283,  0.78925622,  0.78099173, ...,  0.15289256,\n",
        "          0.15289256,  0.15289256]],\n",
        "\n",
        "       [[ 0.31818181,  0.40082645,  0.49173555, ...,  0.40082645,\n",
        "          0.35537189,  0.30991736],\n",
        "        [ 0.30991736,  0.39669421,  0.47933885, ...,  0.40495867,\n",
        "          0.37603307,  0.30165288],\n",
        "        [ 0.26859504,  0.34710744,  0.45454547, ...,  0.39669421,\n",
        "          0.37190083,  0.30991736],\n",
        "        ..., \n",
        "        [ 0.1322314 ,  0.09917355,  0.08264463, ...,  0.13636364,\n",
        "          0.14876033,  0.15289256],\n",
        "        [ 0.11570248,  0.09504132,  0.0785124 , ...,  0.14462809,\n",
        "          0.14462809,  0.1570248 ],\n",
        "        [ 0.11157025,  0.09090909,  0.0785124 , ...,  0.14049587,\n",
        "          0.14876033,  0.15289256]],\n",
        "\n",
        "       ..., \n",
        "       [[ 0.5       ,  0.53305787,  0.60743803, ...,  0.28512397,\n",
        "          0.23966943,  0.21487603],\n",
        "        [ 0.49173555,  0.54132229,  0.60330576, ...,  0.29752067,\n",
        "          0.20247933,  0.20661157],\n",
        "        [ 0.46694216,  0.55785125,  0.61983472, ...,  0.29752067,\n",
        "          0.17768595,  0.18595041],\n",
        "        ..., \n",
        "        [ 0.03305785,  0.46280992,  0.5289256 , ...,  0.17355372,\n",
        "          0.17355372,  0.16942149],\n",
        "        [ 0.1570248 ,  0.52479339,  0.53305787, ...,  0.16528925,\n",
        "          0.1570248 ,  0.18595041],\n",
        "        [ 0.45454547,  0.52066118,  0.53305787, ...,  0.17768595,\n",
        "          0.14876033,  0.19008264]],\n",
        "\n",
        "       [[ 0.21487603,  0.21900827,  0.21900827, ...,  0.71487606,\n",
        "          0.71487606,  0.69421488],\n",
        "        [ 0.20247933,  0.20661157,  0.20661157, ...,  0.71074378,\n",
        "          0.70661157,  0.69421488],\n",
        "        [ 0.2107438 ,  0.20661157,  0.20661157, ...,  0.6859504 ,\n",
        "          0.69008267,  0.69421488],\n",
        "        ..., \n",
        "        [ 0.2644628 ,  0.25619835,  0.26033059, ...,  0.54132229,\n",
        "          0.57438016,  0.59090906],\n",
        "        [ 0.26859504,  0.2644628 ,  0.26859504, ...,  0.56198347,\n",
        "          0.58264464,  0.59504133],\n",
        "        [ 0.27272728,  0.26859504,  0.27272728, ...,  0.57438016,\n",
        "          0.59090906,  0.60330576]],\n",
        "\n",
        "       [[ 0.5165289 ,  0.46280992,  0.28099173, ...,  0.57851237,\n",
        "          0.54132229,  0.60330576],\n",
        "        [ 0.5165289 ,  0.45041323,  0.29338843, ...,  0.58264464,\n",
        "          0.55371898,  0.57851237],\n",
        "        [ 0.5165289 ,  0.44214877,  0.29338843, ...,  0.59917355,\n",
        "          0.57851237,  0.54545456],\n",
        "        ..., \n",
        "        [ 0.39256197,  0.41322315,  0.38842976, ...,  0.33471075,\n",
        "          0.37190083,  0.39669421],\n",
        "        [ 0.39256197,  0.38429752,  0.40495867, ...,  0.33057851,\n",
        "          0.35950413,  0.37603307],\n",
        "        [ 0.36776859,  0.40495867,  0.39669421, ...,  0.35950413,\n",
        "          0.35537189,  0.38429752]]], dtype=float32), 'data': array([[ 0.30991736,  0.36776859,  0.41735536, ...,  0.15289256,\n",
        "         0.16115703,  0.1570248 ],\n",
        "       [ 0.45454547,  0.47107437,  0.51239669, ...,  0.15289256,\n",
        "         0.15289256,  0.15289256],\n",
        "       [ 0.31818181,  0.40082645,  0.49173555, ...,  0.14049587,\n",
        "         0.14876033,  0.15289256],\n",
        "       ..., \n",
        "       [ 0.5       ,  0.53305787,  0.60743803, ...,  0.17768595,\n",
        "         0.14876033,  0.19008264],\n",
        "       [ 0.21487603,  0.21900827,  0.21900827, ...,  0.57438016,\n",
        "         0.59090906,  0.60330576],\n",
        "       [ 0.5165289 ,  0.46280992,  0.28099173, ...,  0.35950413,\n",
        "         0.35537189,  0.38429752]], dtype=float32), 'target': array([ 0,  0,  0,  0,  0,  0,  0,  0,  0,  0,  1,  1,  1,  1,  1,  1,  1,\n",
        "        1,  1,  1,  2,  2,  2,  2,  2,  2,  2,  2,  2,  2,  3,  3,  3,  3,\n",
        "        3,  3,  3,  3,  3,  3,  4,  4,  4,  4,  4,  4,  4,  4,  4,  4,  5,\n",
        "        5,  5,  5,  5,  5,  5,  5,  5,  5,  6,  6,  6,  6,  6,  6,  6,  6,\n",
        "        6,  6,  7,  7,  7,  7,  7,  7,  7,  7,  7,  7,  8,  8,  8,  8,  8,\n",
        "        8,  8,  8,  8,  8,  9,  9,  9,  9,  9,  9,  9,  9,  9,  9, 10, 10,\n",
        "       10, 10, 10, 10, 10, 10, 10, 10, 11, 11, 11, 11, 11, 11, 11, 11, 11,\n",
        "       11, 12, 12, 12, 12, 12, 12, 12, 12, 12, 12, 13, 13, 13, 13, 13, 13,\n",
        "       13, 13, 13, 13, 14, 14, 14, 14, 14, 14, 14, 14, 14, 14, 15, 15, 15,\n",
        "       15, 15, 15, 15, 15, 15, 15, 16, 16, 16, 16, 16, 16, 16, 16, 16, 16,\n",
        "       17, 17, 17, 17, 17, 17, 17, 17, 17, 17, 18, 18, 18, 18, 18, 18, 18,\n",
        "       18, 18, 18, 19, 19, 19, 19, 19, 19, 19, 19, 19, 19, 20, 20, 20, 20,\n",
        "       20, 20, 20, 20, 20, 20, 21, 21, 21, 21, 21, 21, 21, 21, 21, 21, 22,\n",
        "       22, 22, 22, 22, 22, 22, 22, 22, 22, 23, 23, 23, 23, 23, 23, 23, 23,\n",
        "       23, 23, 24, 24, 24, 24, 24, 24, 24, 24, 24, 24, 25, 25, 25, 25, 25,\n",
        "       25, 25, 25, 25, 25, 26, 26, 26, 26, 26, 26, 26, 26, 26, 26, 27, 27,\n",
        "       27, 27, 27, 27, 27, 27, 27, 27, 28, 28, 28, 28, 28, 28, 28, 28, 28,\n",
        "       28, 29, 29, 29, 29, 29, 29, 29, 29, 29, 29, 30, 30, 30, 30, 30, 30,\n",
        "       30, 30, 30, 30, 31, 31, 31, 31, 31, 31, 31, 31, 31, 31, 32, 32, 32,\n",
        "       32, 32, 32, 32, 32, 32, 32, 33, 33, 33, 33, 33, 33, 33, 33, 33, 33,\n",
        "       34, 34, 34, 34, 34, 34, 34, 34, 34, 34, 35, 35, 35, 35, 35, 35, 35,\n",
        "       35, 35, 35, 36, 36, 36, 36, 36, 36, 36, 36, 36, 36, 37, 37, 37, 37,\n",
        "       37, 37, 37, 37, 37, 37, 38, 38, 38, 38, 38, 38, 38, 38, 38, 38, 39,\n",
        "       39, 39, 39, 39, 39, 39, 39, 39, 39]), 'DESCR': 'Modified Olivetti faces dataset.\\n\\nThe original database was available from (now defunct)\\n\\n    http://www.uk.research.att.com/facedatabase.html\\n\\nThe version retrieved here comes in MATLAB format from the personal\\nweb page of Sam Roweis:\\n\\n    http://www.cs.nyu.edu/~roweis/\\n\\nThere are ten different images of each of 40 distinct subjects. For some\\nsubjects, the images were taken at different times, varying the lighting,\\nfacial expressions (open / closed eyes, smiling / not smiling) and facial\\ndetails (glasses / no glasses). All the images were taken against a dark\\nhomogeneous background with the subjects in an upright, frontal position (with\\ntolerance for some side movement).\\n\\nThe original dataset consisted of 92 x 112, while the Roweis version\\nconsists of 64x64 images.\\n'}\n"
       ]
      }
     ],
     "prompt_number": 80
    },
    {
     "cell_type": "code",
     "collapsed": false,
     "input": [
      "X = faces.data\n",
      "y = faces.target\n",
      "images = faces.images"
     ],
     "language": "python",
     "metadata": {},
     "outputs": [],
     "prompt_number": 81
    },
    {
     "cell_type": "heading",
     "level": 1,
     "metadata": {},
     "source": [
      "1. Implement PCA on the dataset, using the sklearn. "
     ]
    },
    {
     "cell_type": "heading",
     "level": 5,
     "metadata": {},
     "source": [
      "What do the principal components tell? (is scaling necessary?)"
     ]
    },
    {
     "cell_type": "code",
     "collapsed": false,
     "input": [
      "from sklearn.decomposition import PCA\n",
      "from sklearn.decomposition import RandomizedPCA\n",
      "import sklearn.decomposition as dc"
     ],
     "language": "python",
     "metadata": {},
     "outputs": [],
     "prompt_number": 82
    },
    {
     "cell_type": "code",
     "collapsed": false,
     "input": [
      "# create the PCA model and fit the data\n",
      "pca = PCA(n_components=64)\n",
      "X_r = pca.fit(X).transform(X)\n",
      "scree = pca.explained_variance_ratio_\n"
     ],
     "language": "python",
     "metadata": {},
     "outputs": [],
     "prompt_number": 83
    },
    {
     "cell_type": "code",
     "collapsed": false,
     "input": [
      "#create the PCA scree plot\n",
      "pics_range = xrange(0,64)\n",
      "fig1 = plt.figure(figsize=(8,5))\n",
      "plt.plot(pics_range, scree, 'ro-', linewidth=2)\n",
      "plt.title('Scree Plot')\n",
      "plt.xlabel('Principal Component')\n",
      "plt.ylabel('Eigenvalue')\n",
      "\n",
      "print \"Total Explained Ratio:\", scree.sum()"
     ],
     "language": "python",
     "metadata": {},
     "outputs": [
      {
       "output_type": "stream",
       "stream": "stdout",
       "text": [
        "Total Explained Ratio: 0.897413\n"
       ]
      },
      {
       "metadata": {},
       "output_type": "display_data",
       "png": "[encoded data removed]",
       "text": [
        "<matplotlib.figure.Figure at 0x10e903690>"
       ]
      }
     ],
     "prompt_number": 84
    },
    {
     "cell_type": "heading",
     "level": 1,
     "metadata": {},
     "source": [
      "2. Change from PCA to RandomizedPCA. "
     ]
    },
    {
     "cell_type": "heading",
     "level": 5,
     "metadata": {},
     "source": [
      "Do you obtain the same principal components? Why? Why not?"
     ]
    },
    {
     "cell_type": "code",
     "collapsed": false,
     "input": [
      "# create the RandomizedPCA model and fit the data\n",
      "pca_random = RandomizedPCA(n_components=64)\n",
      "X_random = pca.fit(X).transform(X)\n",
      "scree_random = pca.explained_variance_ratio_\n"
     ],
     "language": "python",
     "metadata": {},
     "outputs": [],
     "prompt_number": 85
    },
    {
     "cell_type": "code",
     "collapsed": false,
     "input": [
      "#create the RandomizedPCA scree plot\n",
      "pics_range = xrange(0,64)\n",
      "fig2 = plt.figure(figsize=(8,5))\n",
      "plt.plot(pics_range, scree_random, 'ro-', linewidth=2)\n",
      "plt.title('RandomizedPCA Scree Plot')\n",
      "plt.xlabel('Principal Component')\n",
      "plt.ylabel('Eigenvalue')\n",
      "\n",
      "print \"Total Explained Ratio:\", scree_random.sum()"
     ],
     "language": "python",
     "metadata": {},
     "outputs": [
      {
       "output_type": "stream",
       "stream": "stdout",
       "text": [
        "Total Explained Ratio: 0.897413\n"
       ]
      },
      {
       "metadata": {},
       "output_type": "display_data",
       "png": "[encoded data removed]",
       "text": [
        "<matplotlib.figure.Figure at 0x1119c9490>"
       ]
      }
     ],
     "prompt_number": 86
    },
    {
     "cell_type": "code",
     "collapsed": false,
     "input": [
      "diff_scree = scree - scree_random\n",
      "diff = 0\n",
      "for value in diff_scree:\n",
      "    diff += value\n",
      "print diff"
     ],
     "language": "python",
     "metadata": {},
     "outputs": [
      {
       "output_type": "stream",
       "stream": "stdout",
       "text": [
        "0.0\n"
       ]
      }
     ],
     "prompt_number": 87
    },
    {
     "cell_type": "heading",
     "level": 1,
     "metadata": {},
     "source": [
      "3. Plot the datapoints in the plane of the two principal components. "
     ]
    },
    {
     "cell_type": "heading",
     "level": 5,
     "metadata": {},
     "source": [
      "Are any clusters visible?"
     ]
    },
    {
     "cell_type": "code",
     "collapsed": false,
     "input": [
      "pca = PCA(n_components=2)\n",
      "X_r = pca.fit(X).transform(X)\n",
      "len(X_r)"
     ],
     "language": "python",
     "metadata": {},
     "outputs": [
      {
       "metadata": {},
       "output_type": "pyout",
       "prompt_number": 93,
       "text": [
        "400"
       ]
      }
     ],
     "prompt_number": 93
    },
    {
     "cell_type": "code",
     "collapsed": false,
     "input": [
      "pl.figure()\n",
      "for i in range(0, 400):\n",
      "    pl.scatter(X_r[i, 0], X_r[i, 1], marker='+')\n",
      "pl.title('PCA of Olivetti Faces Dataset')\n",
      "\n",
      "pl.show()"
     ],
     "language": "python",
     "metadata": {},
     "outputs": [
      {
       "metadata": {},
       "output_type": "display_data",
       "png": "[encoded data removed]",
       "text": [
        "<matplotlib.figure.Figure at 0x110bf4a50>"
       ]
      }
     ],
     "prompt_number": 94
    },
    {
     "cell_type": "heading",
     "level": 1,
     "metadata": {},
     "source": [
      "4. Implement k-means clustering, using sklearn, with k = number of people in the dataset. "
     ]
    },
    {
     "cell_type": "heading",
     "level": 5,
     "metadata": {},
     "source": [
      "Does the clustering work? Does each cluster map correctly to one person?"
     ]
    },
    {
     "cell_type": "code",
     "collapsed": false,
     "input": [
      "from sklearn.cluster import KMeans\n",
      "\n",
      "#k = 40 because there are 40 people in the data set\n",
      "km = KMeans(n_clusters=40, init='k-means++', n_init=10 , max_iter = 300, random_state=1)"
     ],
     "language": "python",
     "metadata": {},
     "outputs": [],
     "prompt_number": 96
    },
    {
     "cell_type": "code",
     "collapsed": false,
     "input": [
      "def do_kmeans_40(km, data):\n",
      "    km.fit(data)\n",
      "    centroids = km.cluster_centers_\n",
      "    y = km.predict(data)\n",
      "    \n",
      "    fig, ax = plt.subplots(1,1, figsize=(8,6))\n",
      "    for t in xrange(40) :\n",
      "        ax.scatter(data[y == t,0],\n",
      "                   data[y == t,1],\n",
      "                   )\n",
      "\n",
      "    ax.scatter(centroids[:,0],centroids[:,1],marker = 's',c='r')"
     ],
     "language": "python",
     "metadata": {},
     "outputs": [],
     "prompt_number": 101
    },
    {
     "cell_type": "code",
     "collapsed": false,
     "input": [
      "do_kmeans_40(km, X_r)"
     ],
     "language": "python",
     "metadata": {},
     "outputs": [
      {
       "metadata": {},
       "output_type": "display_data",
       "png": "[encoded data removed]",
       "text": [
        "<matplotlib.figure.Figure at 0x110828bd0>"
       ]
      }
     ],
     "prompt_number": 102
    },
    {
     "cell_type": "heading",
     "level": 1,
     "metadata": {},
     "source": [
      "5. Vary the number k between 1 and <number of datapoints> and plot the Silhouette coefficient as a function of k. "
     ]
    },
    {
     "cell_type": "heading",
     "level": 5,
     "metadata": {},
     "source": [
      "What do you observe? What conclusions can you draw?"
     ]
    },
    {
     "cell_type": "code",
     "collapsed": false,
     "input": [
      "from sklearn import metrics\n",
      "from sklearn.metrics import pairwise_distances\n",
      "\n",
      "km = KMeans(n_clusters=3, random_state=1)\n",
      "km.fit(X_r)\n",
      "labels = km.labels_\n",
      "metrics.silhouette_score(X_r, labels, metric='euclidean')"
     ],
     "language": "python",
     "metadata": {},
     "outputs": [
      {
       "metadata": {},
       "output_type": "pyout",
       "prompt_number": 105,
       "text": [
        "0.39798877"
       ]
      }
     ],
     "prompt_number": 105
    },
    {
     "cell_type": "code",
     "collapsed": false,
     "input": [
      "scores = []\n",
      "for k in xrange(2,40):\n",
      "    km = KMeans(n_clusters=k, random_state=1)\n",
      "    km.fit(X_r)\n",
      "    labels = km.labels_\n",
      "    scores.append(metrics.silhouette_score(X_r, labels, metric='euclidean'))\n",
      "    "
     ],
     "language": "python",
     "metadata": {},
     "outputs": [
      {
       "output_type": "stream",
       "stream": "stderr",
       "text": [
        "/Users/Schuler/anaconda/lib/python2.7/site-packages/numpy/core/_methods.py:59: RuntimeWarning: Mean of empty slice.\n",
        "  warnings.warn(\"Mean of empty slice.\", RuntimeWarning)\n"
       ]
      }
     ],
     "prompt_number": 106
    },
    {
     "cell_type": "code",
     "collapsed": false,
     "input": [
      "plt.plot(scores)\n"
     ],
     "language": "python",
     "metadata": {},
     "outputs": [
      {
       "metadata": {},
       "output_type": "pyout",
       "prompt_number": 107,
       "text": [
        "[<matplotlib.lines.Line2D at 0x110ea9890>]"
       ]
      },
      {
       "metadata": {},
       "output_type": "display_data",
       "png": "[encoded data removed]",
       "text": [
        "<matplotlib.figure.Figure at 0x10bcaabd0>"
       ]
      }
     ],
     "prompt_number": 107
    },
    {
     "cell_type": "code",
     "collapsed": false,
     "input": [
      "scores = []\n",
      "for k in xrange(2,40):\n",
      "    km = KMeans(n_clusters=k, random_state=1)\n",
      "    km.fit(X)\n",
      "    labels = km.labels_\n",
      "    scores.append(metrics.silhouette_score(X, labels, metric='euclidean'))"
     ],
     "language": "python",
     "metadata": {},
     "outputs": [],
     "prompt_number": 108
    },
    {
     "cell_type": "code",
     "collapsed": false,
     "input": [
      "plt.plot(scores)\n"
     ],
     "language": "python",
     "metadata": {},
     "outputs": [
      {
       "metadata": {},
       "output_type": "pyout",
       "prompt_number": 109,
       "text": [
        "[<matplotlib.lines.Line2D at 0x110c1fd50>]"
       ]
      },
      {
       "metadata": {},
       "output_type": "display_data",
       "png": "[encoded data removed]",
       "text": [
        "<matplotlib.figure.Figure at 0x10bc8f650>"
       ]
      }
     ],
     "prompt_number": 109
    },
    {
     "cell_type": "code",
     "collapsed": false,
     "input": [],
     "language": "python",
     "metadata": {},
     "outputs": []
    }
   ],
   "metadata": {}
  }
 ]
}