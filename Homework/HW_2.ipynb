{
 "metadata": {
  "name": "",
  "signature": "sha256:1e2189f0e5e35d3097e2b6e4ee10d067bf0dc13f829cf5167acab21a08d19e2f"
 },
 "nbformat": 3,
 "nbformat_minor": 0,
 "worksheets": []
}