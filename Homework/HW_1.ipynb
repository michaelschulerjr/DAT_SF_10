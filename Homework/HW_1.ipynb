{
 "metadata": {
  "name": "",
  "signature": "sha256:e4d8432232c9c7970e041e710fda77f863f82765ef251779f1f7ba6e899a209c"
 },
 "nbformat": 3,
 "nbformat_minor": 0,
 "worksheets": [
  {
   "cells": [
    {
     "cell_type": "code",
     "collapsed": false,
     "input": [
      "#import all libraries at the beginning\n",
      "import json\n",
      "from datetime import datetime\n",
      "\n",
      "json_data = open(\"ga_hw_logins.json\")\n",
      "data = json.load(json_data)\n",
      "\n",
      "date_object_data = []\n",
      "for item in data:\n",
      "\tdate_object = datetime.strptime(item, '%Y-%m-%d %H:%M:%S')\n",
      "\tdate_object_data.append(date_object)\n",
      "\t\n",
      "print date_object_data"
     ],
     "language": "python",
     "metadata": {},
     "outputs": []
    }
   ],
   "metadata": {}
  }
 ]
}